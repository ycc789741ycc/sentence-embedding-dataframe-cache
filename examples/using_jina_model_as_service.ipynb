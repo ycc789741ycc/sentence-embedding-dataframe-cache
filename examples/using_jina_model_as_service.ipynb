{
 "cells": [
  {
   "attachments": {},
   "cell_type": "markdown",
   "metadata": {},
   "source": [
    "### Setup the embedding service"
   ]
  },
  {
   "cell_type": "code",
   "execution_count": 6,
   "metadata": {},
   "outputs": [
    {
     "name": "stdout",
     "output_type": "stream",
     "text": [
      "docker-compose -f embedding_models/jina/docker-compose.yml up -d\n",
      "\u001b[1A\u001b[1B\u001b[0G\u001b[?25l[+] Running 0/0\n",
      "\u001b[37m ⠋ Network jina_jina-network  Creating                                     0.0s\n",
      "\u001b[0m\u001b[?25h\u001b[1A\u001b[1A\u001b[0G\u001b[?25l\u001b[34m[+] Running 1/1\u001b[0m\n",
      "\u001b[34m ⠿ Network jina_jina-network        Created                                0.0s\n",
      "\u001b[0m\u001b[37m ⠿ Container jina-gateway-1         Starting                               0.1s\n",
      "\u001b[0m\u001b[37m ⠿ Container jina-embeddingmodel-1  S...                                   0.1s\n",
      "\u001b[0m\u001b[?25h\u001b[1A\u001b[1A\u001b[1A\u001b[1A\u001b[0G\u001b[?25l[+] Running 1/3\n",
      "\u001b[34m ⠿ Network jina_jina-network        Created                                0.0s\n",
      "\u001b[0m\u001b[37m ⠿ Container jina-gateway-1         Starting                               0.2s\n",
      "\u001b[0m\u001b[37m ⠿ Container jina-embeddingmodel-1  S...                                   0.2s\n",
      "\u001b[0m\u001b[?25h\u001b[1A\u001b[1A\u001b[1A\u001b[1A\u001b[0G\u001b[?25l[+] Running 1/3\n",
      "\u001b[34m ⠿ Network jina_jina-network        Created                                0.0s\n",
      "\u001b[0m\u001b[37m ⠿ Container jina-gateway-1         Starting                               0.3s\n",
      "\u001b[0m\u001b[37m ⠿ Container jina-embeddingmodel-1  S...                                   0.3s\n",
      "\u001b[0m\u001b[?25h\u001b[1A\u001b[1A\u001b[1A\u001b[1A\u001b[0G\u001b[?25l[+] Running 1/3\n",
      "\u001b[34m ⠿ Network jina_jina-network        Created                                0.0s\n",
      "\u001b[0m\u001b[37m ⠿ Container jina-gateway-1         Starting                               0.4s\n",
      "\u001b[0m\u001b[37m ⠿ Container jina-embeddingmodel-1  S...                                   0.4s\n",
      "\u001b[0m\u001b[?25h\u001b[1A\u001b[1A\u001b[1A\u001b[1A\u001b[0G\u001b[?25l[+] Running 1/3\n",
      "\u001b[34m ⠿ Network jina_jina-network        Created                                0.0s\n",
      "\u001b[0m\u001b[37m ⠿ Container jina-gateway-1         Starting                               0.5s\n",
      "\u001b[0m\u001b[37m ⠿ Container jina-embeddingmodel-1  S...                                   0.5s\n",
      "\u001b[0m\u001b[?25h\u001b[1A\u001b[1A\u001b[1A\u001b[1A\u001b[0G\u001b[?25l[+] Running 1/3\n",
      "\u001b[34m ⠿ Network jina_jina-network        Created                                0.0s\n",
      "\u001b[0m\u001b[37m ⠿ Container jina-gateway-1         Starting                               0.6s\n",
      "\u001b[0m\u001b[37m ⠿ Container jina-embeddingmodel-1  S...                                   0.6s\n",
      "\u001b[0m\u001b[?25h\u001b[1A\u001b[1A\u001b[1A\u001b[1A\u001b[0G\u001b[?25l\u001b[34m[+] Running 3/3\u001b[0m\n",
      "\u001b[34m ⠿ Network jina_jina-network        Created                                0.0s\n",
      "\u001b[0m\u001b[34m ⠿ Container jina-gateway-1         Started                                0.7s\n",
      "\u001b[0m\u001b[34m ⠿ Container jina-embeddingmodel-1  S...                                   0.6s\n",
      "\u001b[0m\u001b[?25h"
     ]
    }
   ],
   "source": [
    "import sys\n",
    "\n",
    "sys.path.append(\"../\")\n",
    "\n",
    "! make serve-jina-embedding"
   ]
  },
  {
   "attachments": {},
   "cell_type": "markdown",
   "metadata": {},
   "source": [
    "### Retrieve the embeddings from the service"
   ]
  },
  {
   "cell_type": "code",
   "execution_count": null,
   "metadata": {},
   "outputs": [],
   "source": [
    "from embestore.jina import JinaEmbeddingStore\n",
    "\n",
    "\n",
    "JINA_EMBESTORE_GRPC = \"grpc://0.0.0.0:54321\"\n",
    "\n",
    "\n",
    "query_sentences = [\"I want to listen the music.\", \"Music don't want to listen me.\"]\n",
    "\n",
    "jina_embestore = JinaEmbeddingStore(embedding_grpc=JINA_EMBESTORE_GRPC)\n",
    "results = jina_embestore.retrieve_embeddings(sentences=query_sentences)"
   ]
  },
  {
   "attachments": {},
   "cell_type": "markdown",
   "metadata": {},
   "source": [
    "### Shut down the service"
   ]
  },
  {
   "cell_type": "code",
   "execution_count": 7,
   "metadata": {},
   "outputs": [
    {
     "name": "stdout",
     "output_type": "stream",
     "text": [
      "docker-compose -f embedding_models/jina/docker-compose.yml down\n",
      "\u001b[1A\u001b[1B\u001b[0G\u001b[?25l[+] Running 0/0\n",
      "\u001b[37m ⠋ Container jina-gateway-1         Stopping                               0.1s\n",
      "\u001b[0m\u001b[37m ⠋ Container jina-embeddingmodel-1  S...                                   0.1s\n",
      "\u001b[0m\u001b[?25h\u001b[1A\u001b[1A\u001b[1A\u001b[0G\u001b[?25l[+] Running 0/2\n",
      "\u001b[37m ⠙ Container jina-gateway-1         Stopping                               0.2s\n",
      "\u001b[0m\u001b[37m ⠙ Container jina-embeddingmodel-1  S...                                   0.2s\n",
      "\u001b[0m\u001b[?25h\u001b[1A\u001b[1A\u001b[1A\u001b[0G\u001b[?25l[+] Running 0/2\n",
      "\u001b[37m ⠹ Container jina-gateway-1         Stopping                               0.3s\n",
      "\u001b[0m\u001b[37m ⠹ Container jina-embeddingmodel-1  S...                                   0.3s\n",
      "\u001b[0m\u001b[?25h\u001b[1A\u001b[1A\u001b[1A\u001b[0G\u001b[?25l[+] Running 0/2\n",
      "\u001b[37m ⠸ Container jina-gateway-1         Stopping                               0.4s\n",
      "\u001b[0m\u001b[37m ⠸ Container jina-embeddingmodel-1  S...                                   0.4s\n",
      "\u001b[0m\u001b[?25h\u001b[1A\u001b[1A\u001b[1A\u001b[0G\u001b[?25l[+] Running 0/2\n",
      "\u001b[37m ⠼ Container jina-gateway-1         Stopping                               0.5s\n",
      "\u001b[0m\u001b[37m ⠼ Container jina-embeddingmodel-1  S...                                   0.5s\n",
      "\u001b[0m\u001b[?25h\u001b[1A\u001b[1A\u001b[1A\u001b[0G\u001b[?25l[+] Running 0/2\n",
      "\u001b[37m ⠴ Container jina-gateway-1         Stopping                               0.6s\n",
      "\u001b[0m\u001b[37m ⠴ Container jina-embeddingmodel-1  S...                                   0.6s\n",
      "\u001b[0m\u001b[?25h\u001b[1A\u001b[1A\u001b[1A\u001b[0G\u001b[?25l[+] Running 0/2\n",
      "\u001b[37m ⠦ Container jina-gateway-1         Stopping                               0.7s\n",
      "\u001b[0m\u001b[37m ⠦ Container jina-embeddingmodel-1  S...                                   0.7s\n",
      "\u001b[0m\u001b[?25h\u001b[1A\u001b[1A\u001b[1A\u001b[0G\u001b[?25l[+] Running 0/2\n",
      "\u001b[37m ⠧ Container jina-gateway-1         Stopping                               0.8s\n",
      "\u001b[0m\u001b[37m ⠧ Container jina-embeddingmodel-1  S...                                   0.8s\n",
      "\u001b[0m\u001b[?25h\u001b[1A\u001b[1A\u001b[1A\u001b[0G\u001b[?25l[+] Running 0/2\n",
      "\u001b[37m ⠇ Container jina-gateway-1         Stopping                               0.9s\n",
      "\u001b[0m\u001b[37m ⠇ Container jina-embeddingmodel-1  S...                                   0.9s\n",
      "\u001b[0m\u001b[?25h\u001b[1A\u001b[1A\u001b[1A\u001b[0G\u001b[?25l[+] Running 0/2\n",
      "\u001b[37m ⠏ Container jina-gateway-1         Stopping                               1.0s\n",
      "\u001b[0m\u001b[37m ⠏ Container jina-embeddingmodel-1  S...                                   1.0s\n",
      "\u001b[0m\u001b[?25h\u001b[1A\u001b[1A\u001b[1A\u001b[0G\u001b[?25l[+] Running 1/2\n",
      "\u001b[34m ⠿ Container jina-gateway-1         Removed                                1.0s\n",
      "\u001b[0m\u001b[37m ⠋ Container jina-embeddingmodel-1  S...                                   1.1s\n",
      "\u001b[0m\u001b[?25h\u001b[1A\u001b[1A\u001b[1A\u001b[0G\u001b[?25l\u001b[34m[+] Running 2/2\u001b[0m\n",
      "\u001b[34m ⠿ Container jina-gateway-1         Removed                                1.0s\n",
      "\u001b[0m\u001b[34m ⠿ Container jina-embeddingmodel-1  R...                                   1.2s\n",
      "\u001b[0m\u001b[37m ⠋ Network jina_jina-network        Removin...                             0.0s\n",
      "\u001b[0m\u001b[?25h\u001b[1A\u001b[1A\u001b[1A\u001b[1A\u001b[0G\u001b[?25l\u001b[34m[+] Running 3/3\u001b[0m\n",
      "\u001b[34m ⠿ Container jina-gateway-1         Removed                                1.0s\n",
      "\u001b[0m\u001b[34m ⠿ Container jina-embeddingmodel-1  R...                                   1.2s\n",
      "\u001b[0m\u001b[34m ⠿ Network jina_jina-network        Removed                                0.1s\n",
      "\u001b[0m\u001b[?25h"
     ]
    }
   ],
   "source": [
    "! make stop-jina-embedding"
   ]
  }
 ],
 "metadata": {
  "kernelspec": {
   "display_name": "sedc",
   "language": "python",
   "name": "python3"
  },
  "language_info": {
   "codemirror_mode": {
    "name": "ipython",
    "version": 3
   },
   "file_extension": ".py",
   "mimetype": "text/x-python",
   "name": "python",
   "nbconvert_exporter": "python",
   "pygments_lexer": "ipython3",
   "version": "3.10.8 (main, Nov 24 2022, 08:08:27) [Clang 14.0.6 ]"
  },
  "orig_nbformat": 4,
  "vscode": {
   "interpreter": {
    "hash": "1d59d85d54aaffa5f7e7e2485838c7627f7d6d340583dcfc93273960dee772ed"
   }
  }
 },
 "nbformat": 4,
 "nbformat_minor": 2
}
