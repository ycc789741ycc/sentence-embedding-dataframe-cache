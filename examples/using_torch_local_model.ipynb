{
 "cells": [
  {
   "cell_type": "code",
   "execution_count": 1,
   "metadata": {},
   "outputs": [],
   "source": [
    "import os\n",
    "import sys\n",
    "\n",
    "\n",
    "os.chdir(\"..\")"
   ]
  },
  {
   "attachments": {},
   "cell_type": "markdown",
   "metadata": {},
   "source": [
    "## Retrieve the embeddings from local model"
   ]
  },
  {
   "cell_type": "code",
   "execution_count": 2,
   "metadata": {},
   "outputs": [
    {
     "name": "stderr",
     "output_type": "stream",
     "text": [
      "/Users/yoshi/miniconda3/envs/sedc/lib/python3.10/site-packages/tqdm/auto.py:22: TqdmWarning: IProgress not found. Please update jupyter and ipywidgets. See https://ipywidgets.readthedocs.io/en/stable/user_install.html\n",
      "  from .autonotebook import tqdm as notebook_tqdm\n"
     ]
    }
   ],
   "source": [
    "from embedding_store.torch import TorchEmbeddingStore\n",
    "\n",
    "query_sentences = [\"I want to listen the music.\", \"Music don't want to listen me.\"]\n",
    "\n",
    "\n",
    "torch_embedding_store = TorchEmbeddingStore()\n",
    "results = torch_embedding_store.retrieve_embeddings(sentences=query_sentences)"
   ]
  }
 ],
 "metadata": {
  "kernelspec": {
   "display_name": "sedc",
   "language": "python",
   "name": "python3"
  },
  "language_info": {
   "codemirror_mode": {
    "name": "ipython",
    "version": 3
   },
   "file_extension": ".py",
   "mimetype": "text/x-python",
   "name": "python",
   "nbconvert_exporter": "python",
   "pygments_lexer": "ipython3",
   "version": "3.10.8"
  },
  "orig_nbformat": 4,
  "vscode": {
   "interpreter": {
    "hash": "1d59d85d54aaffa5f7e7e2485838c7627f7d6d340583dcfc93273960dee772ed"
   }
  }
 },
 "nbformat": 4,
 "nbformat_minor": 2
}
